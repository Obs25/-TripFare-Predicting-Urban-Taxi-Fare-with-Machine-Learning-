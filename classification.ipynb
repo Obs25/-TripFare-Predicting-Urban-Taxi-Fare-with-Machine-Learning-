{
 "cells": [
  {
   "cell_type": "markdown",
   "id": "89d3637d",
   "metadata": {},
   "source": [
    "# Driver Assist Hotspot Finder"
   ]
  },
  {
   "cell_type": "code",
   "execution_count": 1,
   "id": "b362336b",
   "metadata": {},
   "outputs": [
    {
     "name": "stdout",
     "output_type": "stream",
     "text": [
      "Libraries imported successfully.\n"
     ]
    }
   ],
   "source": [
    "\n",
    "import pandas as pd\n",
    "import numpy as np\n",
    "\n",
    "import matplotlib.pyplot as plt\n",
    "import seaborn as sns\n",
    "\n",
    "from sklearn.model_selection import train_test_split\n",
    "from sklearn.preprocessing import StandardScaler\n",
    "from sklearn.compose import ColumnTransformer\n",
    "from sklearn.pipeline import Pipeline\n",
    "\n",
    "from sklearn.linear_model import LogisticRegression\n",
    "from sklearn.ensemble import RandomForestClassifier\n",
    "\n",
    "from sklearn.metrics import classification_report, confusion_matrix, accuracy_score, roc_auc_score\n",
    "\n",
    "import pickle\n",
    "\n",
    "import warnings\n",
    "warnings.filterwarnings('ignore')\n",
    "\n",
    "sns.set_style('whitegrid')\n",
    "plt.rcParams['figure.figsize'] = (12, 6)\n",
    "\n",
    "print(\"Libraries imported successfully.\")"
   ]
  },
  {
   "cell_type": "markdown",
   "id": "a31bc07d",
   "metadata": {},
   "source": [
    "Data Loading"
   ]
  },
  {
   "cell_type": "code",
   "execution_count": 4,
   "id": "5bbaef84",
   "metadata": {},
   "outputs": [
    {
     "data": {
      "text/html": [
       "<div>\n",
       "<style scoped>\n",
       "    .dataframe tbody tr th:only-of-type {\n",
       "        vertical-align: middle;\n",
       "    }\n",
       "\n",
       "    .dataframe tbody tr th {\n",
       "        vertical-align: top;\n",
       "    }\n",
       "\n",
       "    .dataframe thead th {\n",
       "        text-align: right;\n",
       "    }\n",
       "</style>\n",
       "<table border=\"1\" class=\"dataframe\">\n",
       "  <thead>\n",
       "    <tr style=\"text-align: right;\">\n",
       "      <th></th>\n",
       "      <th>VendorID</th>\n",
       "      <th>tpep_pickup_datetime</th>\n",
       "      <th>tpep_dropoff_datetime</th>\n",
       "      <th>passenger_count</th>\n",
       "      <th>pickup_longitude</th>\n",
       "      <th>pickup_latitude</th>\n",
       "      <th>RatecodeID</th>\n",
       "      <th>store_and_fwd_flag</th>\n",
       "      <th>dropoff_longitude</th>\n",
       "      <th>dropoff_latitude</th>\n",
       "      <th>payment_type</th>\n",
       "      <th>fare_amount</th>\n",
       "      <th>extra</th>\n",
       "      <th>mta_tax</th>\n",
       "      <th>tip_amount</th>\n",
       "      <th>tolls_amount</th>\n",
       "      <th>improvement_surcharge</th>\n",
       "      <th>total_amount</th>\n",
       "    </tr>\n",
       "  </thead>\n",
       "  <tbody>\n",
       "    <tr>\n",
       "      <th>0</th>\n",
       "      <td>1</td>\n",
       "      <td>2016-03-01 00:00:00</td>\n",
       "      <td>2016-03-01 00:07:55</td>\n",
       "      <td>1</td>\n",
       "      <td>-73.976746</td>\n",
       "      <td>40.765152</td>\n",
       "      <td>1</td>\n",
       "      <td>N</td>\n",
       "      <td>-74.004265</td>\n",
       "      <td>40.746128</td>\n",
       "      <td>1</td>\n",
       "      <td>9.0</td>\n",
       "      <td>0.5</td>\n",
       "      <td>0.5</td>\n",
       "      <td>2.05</td>\n",
       "      <td>0.00</td>\n",
       "      <td>0.3</td>\n",
       "      <td>12.35</td>\n",
       "    </tr>\n",
       "    <tr>\n",
       "      <th>1</th>\n",
       "      <td>1</td>\n",
       "      <td>2016-03-01 00:00:00</td>\n",
       "      <td>2016-03-01 00:11:06</td>\n",
       "      <td>1</td>\n",
       "      <td>-73.983482</td>\n",
       "      <td>40.767925</td>\n",
       "      <td>1</td>\n",
       "      <td>N</td>\n",
       "      <td>-74.005943</td>\n",
       "      <td>40.733166</td>\n",
       "      <td>1</td>\n",
       "      <td>11.0</td>\n",
       "      <td>0.5</td>\n",
       "      <td>0.5</td>\n",
       "      <td>3.05</td>\n",
       "      <td>0.00</td>\n",
       "      <td>0.3</td>\n",
       "      <td>15.35</td>\n",
       "    </tr>\n",
       "    <tr>\n",
       "      <th>2</th>\n",
       "      <td>2</td>\n",
       "      <td>2016-03-01 00:00:00</td>\n",
       "      <td>2016-03-01 00:31:06</td>\n",
       "      <td>2</td>\n",
       "      <td>-73.782021</td>\n",
       "      <td>40.644810</td>\n",
       "      <td>1</td>\n",
       "      <td>N</td>\n",
       "      <td>-73.974541</td>\n",
       "      <td>40.675770</td>\n",
       "      <td>1</td>\n",
       "      <td>54.5</td>\n",
       "      <td>0.5</td>\n",
       "      <td>0.5</td>\n",
       "      <td>8.00</td>\n",
       "      <td>0.00</td>\n",
       "      <td>0.3</td>\n",
       "      <td>63.80</td>\n",
       "    </tr>\n",
       "    <tr>\n",
       "      <th>3</th>\n",
       "      <td>2</td>\n",
       "      <td>2016-03-01 00:00:00</td>\n",
       "      <td>2016-03-01 00:00:00</td>\n",
       "      <td>3</td>\n",
       "      <td>-73.863419</td>\n",
       "      <td>40.769814</td>\n",
       "      <td>1</td>\n",
       "      <td>N</td>\n",
       "      <td>-73.969650</td>\n",
       "      <td>40.757767</td>\n",
       "      <td>1</td>\n",
       "      <td>31.5</td>\n",
       "      <td>0.0</td>\n",
       "      <td>0.5</td>\n",
       "      <td>3.78</td>\n",
       "      <td>5.54</td>\n",
       "      <td>0.3</td>\n",
       "      <td>41.62</td>\n",
       "    </tr>\n",
       "    <tr>\n",
       "      <th>4</th>\n",
       "      <td>2</td>\n",
       "      <td>2016-03-01 00:00:00</td>\n",
       "      <td>2016-03-01 00:00:00</td>\n",
       "      <td>5</td>\n",
       "      <td>-73.971741</td>\n",
       "      <td>40.792183</td>\n",
       "      <td>3</td>\n",
       "      <td>N</td>\n",
       "      <td>-74.177170</td>\n",
       "      <td>40.695053</td>\n",
       "      <td>1</td>\n",
       "      <td>98.0</td>\n",
       "      <td>0.0</td>\n",
       "      <td>0.0</td>\n",
       "      <td>0.00</td>\n",
       "      <td>15.50</td>\n",
       "      <td>0.3</td>\n",
       "      <td>113.80</td>\n",
       "    </tr>\n",
       "  </tbody>\n",
       "</table>\n",
       "</div>"
      ],
      "text/plain": [
       "   VendorID tpep_pickup_datetime tpep_dropoff_datetime  passenger_count  \\\n",
       "0         1  2016-03-01 00:00:00   2016-03-01 00:07:55                1   \n",
       "1         1  2016-03-01 00:00:00   2016-03-01 00:11:06                1   \n",
       "2         2  2016-03-01 00:00:00   2016-03-01 00:31:06                2   \n",
       "3         2  2016-03-01 00:00:00   2016-03-01 00:00:00                3   \n",
       "4         2  2016-03-01 00:00:00   2016-03-01 00:00:00                5   \n",
       "\n",
       "   pickup_longitude  pickup_latitude  RatecodeID store_and_fwd_flag  \\\n",
       "0        -73.976746        40.765152           1                  N   \n",
       "1        -73.983482        40.767925           1                  N   \n",
       "2        -73.782021        40.644810           1                  N   \n",
       "3        -73.863419        40.769814           1                  N   \n",
       "4        -73.971741        40.792183           3                  N   \n",
       "\n",
       "   dropoff_longitude  dropoff_latitude  payment_type  fare_amount  extra  \\\n",
       "0         -74.004265         40.746128             1          9.0    0.5   \n",
       "1         -74.005943         40.733166             1         11.0    0.5   \n",
       "2         -73.974541         40.675770             1         54.5    0.5   \n",
       "3         -73.969650         40.757767             1         31.5    0.0   \n",
       "4         -74.177170         40.695053             1         98.0    0.0   \n",
       "\n",
       "   mta_tax  tip_amount  tolls_amount  improvement_surcharge  total_amount  \n",
       "0      0.5        2.05          0.00                    0.3         12.35  \n",
       "1      0.5        3.05          0.00                    0.3         15.35  \n",
       "2      0.5        8.00          0.00                    0.3         63.80  \n",
       "3      0.5        3.78          5.54                    0.3         41.62  \n",
       "4      0.0        0.00         15.50                    0.3        113.80  "
      ]
     },
     "metadata": {},
     "output_type": "display_data"
    }
   ],
   "source": [
    "\n",
    "df = pd.read_csv('taxi_fare.csv')\n",
    "display(df.head())"
   ]
  },
  {
   "cell_type": "markdown",
   "id": "652c4093",
   "metadata": {},
   "source": [
    "Data Cleaning and Initial Feature Engineering"
   ]
  },
  {
   "cell_type": "code",
   "execution_count": 5,
   "id": "198f2e33",
   "metadata": {},
   "outputs": [
    {
     "name": "stdout",
     "output_type": "stream",
     "text": [
      "Shape before cleaning: (212345, 18)\n",
      "Shape after cleaning: (206862, 20)\n"
     ]
    }
   ],
   "source": [
    "print(f\"Shape before cleaning: {df.shape}\")\n",
    "\n",
    "# 1. Filtering out illogical data points\n",
    "df = df[df['fare_amount'] > 0]\n",
    "df = df[(df['passenger_count'] > 0) & (df['passenger_count'] < 7)]\n",
    "df = df[(df['pickup_longitude'] > -75) & (df['pickup_longitude'] < -73)]\n",
    "df = df[(df['pickup_latitude'] > 40) & (df['pickup_latitude'] < 42)]\n",
    "df = df[(df['dropoff_longitude'] > -75) & (df['dropoff_longitude'] < -73)]\n",
    "df = df[(df['dropoff_latitude'] > 40) & (df['dropoff_latitude'] < 42)]\n",
    "\n",
    "# 2. Converting to datetime objects\n",
    "df['tpep_pickup_datetime'] = pd.to_datetime(df['tpep_pickup_datetime'])\n",
    "df['tpep_dropoff_datetime'] = pd.to_datetime(df['tpep_dropoff_datetime'])\n",
    "\n",
    "# 3. Creating Trip Duration and Trip Distance\n",
    "def haversine_distance(lon1, lat1, lon2, lat2):\n",
    "    lon1, lat1, lon2, lat2 = map(np.radians, [lon1, lat1, lon2, lat2])\n",
    "    dlon, dlat = lon2 - lon1, lat2 - lat1\n",
    "    a = np.sin(dlat/2.0)**2 + np.cos(lat1) * np.cos(lat2) * np.sin(dlon/2.0)**2\n",
    "    return 6371 * 2 * np.arcsin(np.sqrt(a)) * 0.621371 # in miles\n",
    "\n",
    "df['trip_distance'] = haversine_distance(df['pickup_longitude'], df['pickup_latitude'],\n",
    "                                         df['dropoff_longitude'], df['dropoff_latitude'])\n",
    "df['trip_duration'] = (df['tpep_dropoff_datetime'] - df['tpep_pickup_datetime']).dt.total_seconds() / 60\n",
    "\n",
    "# 4. Removing trips with invalid distance or duration\n",
    "df = df[df['trip_distance'] > 0.1]\n",
    "df = df[(df['trip_duration'] > 1) & (df['trip_duration'] < 120)]\n",
    "\n",
    "print(f\"Shape after cleaning: {df.shape}\")"
   ]
  },
  {
   "cell_type": "markdown",
   "id": "8069a384",
   "metadata": {},
   "source": [
    "Creating the Target Variable for Classification"
   ]
  },
  {
   "cell_type": "code",
   "execution_count": 6,
   "id": "fe6a1645",
   "metadata": {},
   "outputs": [
    {
     "name": "stdout",
     "output_type": "stream",
     "text": [
      "The threshold for a high-earning trip is $1.08 per minute.\n",
      "\n",
      "Distribution of target classes:\n",
      "is_high_earning\n",
      "0    75.002175\n",
      "1    24.997825\n",
      "Name: proportion, dtype: float64\n"
     ]
    },
    {
     "data": {
      "image/png": "[encoded data removed]",
      "text/plain": [
       "<Figure size 1200x600 with 1 Axes>"
      ]
     },
     "metadata": {},
     "output_type": "display_data"
    }
   ],
   "source": [
    "\n",
    "# 1. Engineering the 'fare_per_minute' metric to define a high-value trip\n",
    "df['fare_per_minute'] = df['fare_amount'] / (df['trip_duration'] + 1e-6)\n",
    "\n",
    "# 2. Defining the threshold for a \"high-earning\" trip\n",
    "high_earning_threshold = df['fare_per_minute'].quantile(0.75)\n",
    "print(f\"The threshold for a high-earning trip is ${high_earning_threshold:.2f} per minute.\")\n",
    "\n",
    "# 3. Creating the binary target variable 'is_high_earning'\n",
    "df['is_high_earning'] = (df['fare_per_minute'] > high_earning_threshold).astype(int)\n",
    "\n",
    "# 4. Analyzing the class balance\n",
    "print(\"\\nDistribution of target classes:\")\n",
    "class_distribution = df['is_high_earning'].value_counts(normalize=True) * 100\n",
    "print(class_distribution)\n",
    "\n",
    "# Visualizing the distribution\n",
    "class_distribution.plot(kind='bar', color=['skyblue', 'salmon'])\n",
    "plt.title('Class Distribution: High-Earning vs. Regular Trips')\n",
    "plt.ylabel('Percentage (%)')\n",
    "plt.xticks([0, 1], ['Regular Earning (0)', 'High Earning (1)'], rotation=0)\n",
    "plt.show()"
   ]
  },
  {
   "cell_type": "markdown",
   "id": "63b73a0f",
   "metadata": {},
   "source": [
    "Feature Selection and Data Splitting"
   ]
  },
  {
   "cell_type": "code",
   "execution_count": 7,
   "id": "b97827d9",
   "metadata": {},
   "outputs": [
    {
     "name": "stdout",
     "output_type": "stream",
     "text": [
      "Selected features for classification:\n",
      "['pickup_longitude', 'pickup_latitude', 'pickup_hour', 'pickup_day_of_week', 'is_weekend']\n",
      "\n",
      "Training set shape: (155146, 5)\n",
      "Testing set shape: (51716, 5)\n"
     ]
    }
   ],
   "source": [
    "\n",
    "# 1. Selecting features relevant to a driver's decision\n",
    "df['pickup_hour'] = df['tpep_pickup_datetime'].dt.hour\n",
    "df['pickup_day_of_week'] = df['tpep_pickup_datetime'].dt.dayofweek # Monday=0, Sunday=6\n",
    "df['is_weekend'] = (df['pickup_day_of_week'] >= 5).astype(int)\n",
    "\n",
    "class_features = [\n",
    "    'pickup_longitude',\n",
    "    'pickup_latitude',\n",
    "    'pickup_hour',\n",
    "    'pickup_day_of_week',\n",
    "    'is_weekend'\n",
    "]\n",
    "\n",
    "X = df[class_features]\n",
    "y = df['is_high_earning']\n",
    "\n",
    "print(\"Selected features for classification:\")\n",
    "print(X.columns.tolist())\n",
    "\n",
    "X_train, X_test, y_train, y_test = train_test_split(X, y, test_size=0.25, random_state=42, stratify=y)\n",
    "\n",
    "print(f\"\\nTraining set shape: {X_train.shape}\")\n",
    "print(f\"Testing set shape: {X_test.shape}\")"
   ]
  },
  {
   "cell_type": "markdown",
   "id": "6d72aed3",
   "metadata": {},
   "source": [
    "Building and Training the Classification Model"
   ]
  },
  {
   "cell_type": "code",
   "execution_count": 8,
   "id": "43e755f8",
   "metadata": {},
   "outputs": [
    {
     "name": "stdout",
     "output_type": "stream",
     "text": [
      "--- Training the Driver Hotspot Classifier ---\n",
      "Training complete.\n"
     ]
    }
   ],
   "source": [
    "\n",
    "\n",
    "# 1. Creating a preprocessing pipeline \n",
    "preprocessor = StandardScaler()\n",
    "classifier_pipeline = Pipeline(steps=[\n",
    "    ('preprocessor', preprocessor),\n",
    "    ('classifier', RandomForestClassifier(n_estimators=100, random_state=42, n_jobs=1, class_weight='balanced', max_depth=15))\n",
    "])\n",
    "\n",
    "# 3. Train the model\n",
    "print(\"--- Training the Driver Hotspot Classifier ---\")\n",
    "classifier_pipeline.fit(X_train, y_train)\n",
    "print(\"Training complete.\")"
   ]
  },
  {
   "cell_type": "markdown",
   "id": "0df96ae8",
   "metadata": {},
   "source": [
    " Model Evaluation"
   ]
  },
  {
   "cell_type": "code",
   "execution_count": 9,
   "id": "c14bda10",
   "metadata": {},
   "outputs": [
    {
     "name": "stdout",
     "output_type": "stream",
     "text": [
      "\n",
      "--- Classification Model Performance ---\n",
      "Accuracy: 0.7581\n",
      "ROC AUC Score: 0.7261\n",
      "\n",
      "Classification Report:\n",
      "                 precision    recall  f1-score   support\n",
      "\n",
      "Regular Earning       0.83      0.85      0.84     38788\n",
      "   High Earning       0.52      0.48      0.50     12928\n",
      "\n",
      "       accuracy                           0.76     51716\n",
      "      macro avg       0.67      0.67      0.67     51716\n",
      "   weighted avg       0.75      0.76      0.76     51716\n",
      "\n"
     ]
    },
    {
     "data": {
      "image/png": "[encoded data removed]",
      "text/plain": [
       "<Figure size 800x600 with 2 Axes>"
      ]
     },
     "metadata": {},
     "output_type": "display_data"
    }
   ],
   "source": [
    "\n",
    "# 1. predictions on the test set\n",
    "y_pred = classifier_pipeline.predict(X_test)\n",
    "y_pred_proba = classifier_pipeline.predict_proba(X_test)[:, 1] # Probabilities for the positive class\n",
    "\n",
    "# 2. Printinb the evaluation metrics\n",
    "print(\"\\n--- Classification Model Performance ---\")\n",
    "print(f\"Accuracy: {accuracy_score(y_test, y_pred):.4f}\")\n",
    "print(f\"ROC AUC Score: {roc_auc_score(y_test, y_pred_proba):.4f}\")\n",
    "\n",
    "print(\"\\nClassification Report:\")\n",
    "print(classification_report(y_test, y_pred, target_names=['Regular Earning', 'High Earning']))\n",
    "\n",
    "# 3. Visualizing the Confusion Matrix\n",
    "cm = confusion_matrix(y_test, y_pred)\n",
    "plt.figure(figsize=(8, 6))\n",
    "sns.heatmap(cm, annot=True, fmt='d', cmap='Blues',\n",
    "            xticklabels=['Regular Earning', 'High Earning'],\n",
    "            yticklabels=['Regular Earning', 'High Earning'])\n",
    "plt.title('Confusion Matrix')\n",
    "plt.ylabel('Actual Class')\n",
    "plt.xlabel('Predicted Class')\n",
    "plt.show()"
   ]
  },
  {
   "cell_type": "markdown",
   "id": "60c871d0",
   "metadata": {},
   "source": [
    "Saving the model"
   ]
  },
  {
   "cell_type": "code",
   "execution_count": 10,
   "id": "21afffdc",
   "metadata": {},
   "outputs": [
    {
     "name": "stdout",
     "output_type": "stream",
     "text": [
      "\n",
      " Driver hotspot classifier model has been successfully saved as 'driver_hotspot_classifier.pkl'\n"
     ]
    }
   ],
   "source": [
    "\n",
    "with open('driver_hotspot_classifier.pkl', 'wb') as f:\n",
    "    pickle.dump(classifier_pipeline, f)\n",
    "\n",
    "print(\"\\n Driver hotspot classifier model has been successfully saved as 'driver_hotspot_classifier.pkl'\")"
   ]
  },
  {
   "cell_type": "code",
   "execution_count": null,
   "id": "66904304",
   "metadata": {},
   "outputs": [],
   "source": []
  }
 ],
 "metadata": {
  "kernelspec": {
   "display_name": "base",
   "language": "python",
   "name": "python3"
  },
  "language_info": {
   "codemirror_mode": {
    "name": "ipython",
    "version": 3
   },
   "file_extension": ".py",
   "mimetype": "text/x-python",
   "name": "python",
   "nbconvert_exporter": "python",
   "pygments_lexer": "ipython3",
   "version": "3.12.7"
  }
 },
 "nbformat": 4,
 "nbformat_minor": 5
}
